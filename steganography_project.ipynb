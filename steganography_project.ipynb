{
 "cells": [
  {
   "cell_type": "code",
   "execution_count": 1,
   "id": "be9abc7d-5a44-4fe8-99a1-e1f75ef7e508",
   "metadata": {},
   "outputs": [
    {
     "name": "stdout",
     "output_type": "stream",
     "text": [
      "Message successfully encoded and saved as C:\\Users\\lenovo\\Downloads\\output-image.png\n"
     ]
    }
   ],
   "source": [
    "from PIL import Image\n",
    "\n",
    "# Function to hide text in an image\n",
    "def encode_message(image_path, message, output_path):\n",
    "    img = Image.open(image_path)\n",
    "    encoded = img.copy()\n",
    "    width, height = img.size\n",
    "    index = 0\n",
    "\n",
    "    message += '###'  # Delimiter to mark end of message\n",
    "    binary_message = ''.join(format(ord(i), '08b') for i in message)\n",
    "\n",
    "    for row in range(height):\n",
    "        for col in range(width):\n",
    "            if index < len(binary_message):\n",
    "                pixel = list(img.getpixel((col, row)))\n",
    "                for n in range(3):  # For each RGB channel\n",
    "                    if index < len(binary_message):\n",
    "                        pixel[n] = pixel[n] & ~1 | int(binary_message[index])\n",
    "                        index += 1\n",
    "                encoded.putpixel((col, row), tuple(pixel))\n",
    "            else:\n",
    "                break\n",
    "\n",
    "    encoded.save(output_path)\n",
    "    print(\"Message successfully encoded and saved as\", output_path)\n",
    "\n",
    "# Example usage\n",
    "image_path = r\"C:\\Users\\lenovo\\Downloads\\input-image.jpg\"  # raw string for Windows path\n",
    "output_path = r\"C:\\Users\\lenovo\\Downloads\\output-image.png\"\n",
    "secret_message = \"This is a secret message.\"\n",
    "\n",
    "encode_message(image_path, secret_message, output_path)\n"
   ]
  },
  {
   "cell_type": "code",
   "execution_count": 2,
   "id": "6d74dd7d-38a2-431d-8dad-7df156feefaf",
   "metadata": {},
   "outputs": [
    {
     "name": "stdout",
     "output_type": "stream",
     "text": [
      "Decoded message: This is a secret message.\n"
     ]
    }
   ],
   "source": [
    "def decode_message(image_path):\n",
    "    img = Image.open(image_path)\n",
    "    width, height = img.size\n",
    "    binary_data = ''\n",
    "    \n",
    "    for row in range(height):\n",
    "        for col in range(width):\n",
    "            pixel = img.getpixel((col, row))\n",
    "            for n in range(3):  # For each RGB channel\n",
    "                binary_data += str(pixel[n] & 1)\n",
    "\n",
    "    # Convert binary data to text\n",
    "    all_bytes = [binary_data[i:i+8] for i in range(0, len(binary_data), 8)]\n",
    "    decoded_message = ''\n",
    "    for byte in all_bytes:\n",
    "        decoded_message += chr(int(byte, 2))\n",
    "        if decoded_message[-3:] == '###':  # Delimiter found\n",
    "            break\n",
    "\n",
    "    return decoded_message[:-3]  # Remove delimiter\n",
    "\n",
    "# Example usage\n",
    "decoded = decode_message(r\"C:\\Users\\lenovo\\Downloads\\output-image.png\")\n",
    "print(\"Decoded message:\", decoded)\n"
   ]
  },
  {
   "cell_type": "code",
   "execution_count": null,
   "id": "ee921fd3-73db-4dad-a07c-89580e914f6b",
   "metadata": {},
   "outputs": [],
   "source": []
  }
 ],
 "metadata": {
  "kernelspec": {
   "display_name": "Python (TensorFlow)",
   "language": "python",
   "name": "tensorflow_env"
  },
  "language_info": {
   "codemirror_mode": {
    "name": "ipython",
    "version": 3
   },
   "file_extension": ".py",
   "mimetype": "text/x-python",
   "name": "python",
   "nbconvert_exporter": "python",
   "pygments_lexer": "ipython3",
   "version": "3.12.7"
  }
 },
 "nbformat": 4,
 "nbformat_minor": 5
}
